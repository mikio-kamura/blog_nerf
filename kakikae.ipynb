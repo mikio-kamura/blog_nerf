{
 "cells": [
  {
   "cell_type": "code",
   "execution_count": 34,
   "id": "21679212-c130-4740-9c4b-d0933c5ac22d",
   "metadata": {},
   "outputs": [],
   "source": [
    "import json\n",
    "import numpy as np\n",
    "\n",
    "with open(\"transforms.json\") as f:\n",
    "    data = json.load(f)\n",
    "\n",
    "for i in range(len(data[\"frames\"])):  # 1~100\n",
    "\n",
    "    with open(\"pose/{:06d}.txt\".format(i), mode='w') as f:\n",
    "\n",
    "        datai = np.array(data[\"frames\"][i][\"transform_matrix\"]).flatten()\n",
    "        for d in datai:\n",
    "            f.write(str(d) + \" \")"
   ]
  },
  {
   "cell_type": "code",
   "execution_count": 29,
   "id": "5fe31b13-a445-4ec2-9c70-bde9ca9d3e26",
   "metadata": {},
   "outputs": [
    {
     "data": {
      "text/plain": [
       "'000001'"
      ]
     },
     "execution_count": 29,
     "metadata": {},
     "output_type": "execute_result"
    }
   ],
   "source": [
    "\"{:06d}\".format(1)"
   ]
  },
  {
   "cell_type": "code",
   "execution_count": 24,
   "id": "9e977cf1-2214-4666-8e07-6255208f815f",
   "metadata": {},
   "outputs": [
    {
     "data": {
      "text/plain": [
       "10"
      ]
     },
     "execution_count": 24,
     "metadata": {},
     "output_type": "execute_result"
    }
   ],
   "source": [
    "len (data[\"frames\"])"
   ]
  },
  {
   "cell_type": "code",
   "execution_count": null,
   "id": "ae83a815-d2c9-4486-ad0d-6a3dbf5c69d2",
   "metadata": {},
   "outputs": [],
   "source": []
  }
 ],
 "metadata": {
  "kernelspec": {
   "display_name": "Python 3",
   "language": "python",
   "name": "python3"
  },
  "language_info": {
   "codemirror_mode": {
    "name": "ipython",
    "version": 3
   },
   "file_extension": ".py",
   "mimetype": "text/x-python",
   "name": "python",
   "nbconvert_exporter": "python",
   "pygments_lexer": "ipython3",
   "version": "3.8.10"
  }
 },
 "nbformat": 4,
 "nbformat_minor": 5
}
